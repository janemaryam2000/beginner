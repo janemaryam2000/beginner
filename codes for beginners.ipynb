{
 "cells": [
  {
   "cell_type": "code",
   "execution_count": null,
   "metadata": {},
   "outputs": [
    {
     "data": {
      "text/plain": [
       "[1, 4, 9, 16, 25]"
      ]
     },
     "execution_count": 180,
     "metadata": {},
     "output_type": "execute_result"
    }
   ],
   "source": [
    "# Power Calculation\n",
    "def power_of_list(list1,exponent):\n",
    "  list2 = [] #quvvete yukseldilmis deyerleri yeni liste elave etmek ucun evvelceden bos list yaradiriq\n",
    "  for x in list1: #listin uzunlugu boyunca i-leri(elementleri) iterasiya edirik\n",
    "    list2.append(pow(x,exponent)) #bos liste quvvete yukseldilmis elementleri append edirik\n",
    "  return list2\n",
    "power_of_list(list1=[1,2,3,4,5],exponent=2)  "
   ]
  },
  {
   "cell_type": "code",
   "execution_count": 1,
   "metadata": {},
   "outputs": [
    {
     "data": {
      "text/plain": [
       "2"
      ]
     },
     "execution_count": 1,
     "metadata": {},
     "output_type": "execute_result"
    }
   ],
   "source": [
    "# Counting character occurrences in a string\n",
    "def count_characters(string, character):\n",
    "  string_lower = string.lower()\n",
    "  character_lower = character.lower()\n",
    "  count_ = string_lower.count(character_lower)\n",
    "  return count_\n",
    "count_characters(string='About a girl',character='a')"
   ]
  },
  {
   "cell_type": "code",
   "execution_count": 2,
   "metadata": {},
   "outputs": [
    {
     "data": {
      "text/plain": [
       "'Krobak'"
      ]
     },
     "execution_count": 2,
     "metadata": {},
     "output_type": "execute_result"
    }
   ],
   "source": [
    "# Trimming Whitespace\n",
    "def trimming_space(string):\n",
    "\n",
    "  if ' ' in string:\n",
    "    string = string.strip()\n",
    "    return string\n",
    "  else:\n",
    "    return False\n",
    "trimming_space(string='  Krobak   ')\n"
   ]
  },
  {
   "cell_type": "code",
   "execution_count": 3,
   "metadata": {},
   "outputs": [
    {
     "data": {
      "text/plain": [
       "'Krystal Kastles'"
      ]
     },
     "execution_count": 3,
     "metadata": {},
     "output_type": "execute_result"
    }
   ],
   "source": [
    "#Replacing substring in a string\n",
    "def replacing_string(string, sub_old, sub_new):\n",
    "    if sub_old in string:\n",
    "      return string.replace(sub_old,sub_new)\n",
    "    else:\n",
    "      return False\n",
    "replacing_string('Crystal Castles','C','K')\n"
   ]
  },
  {
   "cell_type": "code",
   "execution_count": 4,
   "metadata": {},
   "outputs": [
    {
     "data": {
      "text/plain": [
       "25.535345"
      ]
     },
     "execution_count": 4,
     "metadata": {},
     "output_type": "execute_result"
    }
   ],
   "source": [
    "#Calculating absolute values1\n",
    "def absolute_value(integer):\n",
    "  return abs(integer)\n",
    "absolute_value(-25.535345)"
   ]
  },
  {
   "cell_type": "code",
   "execution_count": 5,
   "metadata": {},
   "outputs": [
    {
     "name": "stdout",
     "output_type": "stream",
     "text": [
      "String is polindrome\n",
      "String is not polindrome\n"
     ]
    }
   ],
   "source": [
    "# Checking palindrome strings\n",
    "def is_polindrome(string):\n",
    "  if string.lower() == (string[::-1]).lower(): #lower() ile stringi case sensitive olmaqdan cixaririq\n",
    "    return 'String is polindrome'\n",
    "  else:\n",
    "    return 'String is not polindrome'\n",
    "print(is_polindrome('Anna anna'))\n",
    "print(is_polindrome('Nazrin'))\n"
   ]
  },
  {
   "cell_type": "code",
   "execution_count": 6,
   "metadata": {},
   "outputs": [
    {
     "name": "stdout",
     "output_type": "stream",
     "text": [
      "9 x 1 = 9\n",
      "9 x 2 = 18\n",
      "9 x 3 = 27\n",
      "9 x 4 = 36\n",
      "9 x 5 = 45\n",
      "9 x 6 = 54\n",
      "9 x 7 = 63\n",
      "9 x 8 = 72\n",
      "9 x 9 = 81\n",
      "9 x 10 = 90\n"
     ]
    }
   ],
   "source": [
    "#Generating a multiplication table\n",
    "def mul_table(n):\n",
    "  for i in range(1,11):\n",
    "    print(f\"{n} x {i} = {n*i}\")\n",
    "  \n",
    "mul_table(9)\n",
    "# print(f' Multiplication table of {n} is {mul_table(5)}')"
   ]
  },
  {
   "cell_type": "code",
   "execution_count": 7,
   "metadata": {},
   "outputs": [
    {
     "data": {
      "text/plain": [
       "45"
      ]
     },
     "execution_count": 7,
     "metadata": {},
     "output_type": "execute_result"
    }
   ],
   "source": [
    "# Calculating sum of digits\n",
    "def sum_of_digits(integer):\n",
    "  sum = 0\n",
    "  while integer>0:\n",
    "    digits = integer%10\n",
    "    integer//=10\n",
    "    sum+=digits\n",
    "  return sum\n",
    "  \n",
    "\n",
    "    \n",
    "sum_of_digits(123456789)    \n",
    "\n"
   ]
  },
  {
   "cell_type": "code",
   "execution_count": 8,
   "metadata": {},
   "outputs": [
    {
     "data": {
      "text/plain": [
       "0"
      ]
     },
     "execution_count": 8,
     "metadata": {},
     "output_type": "execute_result"
    }
   ],
   "source": [
    "#Calculating the length of a string\n",
    "def str_len(string):\n",
    "  # length = 0\n",
    "  if not string:\n",
    "    return 0\n",
    "  \n",
    "  return len(string)\n",
    "str_len('')  \n"
   ]
  },
  {
   "cell_type": "code",
   "execution_count": 9,
   "metadata": {},
   "outputs": [
    {
     "data": {
      "text/plain": [
       "False"
      ]
     },
     "execution_count": 9,
     "metadata": {},
     "output_type": "execute_result"
    }
   ],
   "source": [
    "# checking string start\n",
    "def starts_with(string,prefix):\n",
    "  if len(string)==0:\n",
    "    print('Empty string')\n",
    "  elif (string[0:len(prefix)]).lower() == prefix.lower():\n",
    "    print(f'{string} starts with \"{prefix.capitalize()}\" ')\n",
    "  else: \n",
    "    return False\n",
    "\n",
    "starts_with('Tame Impala', 'a')    "
   ]
  },
  {
   "cell_type": "code",
   "execution_count": 10,
   "metadata": {},
   "outputs": [
    {
     "name": "stdout",
     "output_type": "stream",
     "text": [
      "alma ends with : \"A\"\n"
     ]
    },
    {
     "data": {
      "text/plain": [
       "True"
      ]
     },
     "execution_count": 10,
     "metadata": {},
     "output_type": "execute_result"
    }
   ],
   "source": [
    "# checking string end\n",
    "def ends_with(string,char):\n",
    "  if len(string) == 0:\n",
    "    print('Empty string')\n",
    "  elif (string[-len(char):]).lower() == (char).lower():\n",
    "    print(f'{string} ends with : \"{char}\"')\n",
    "    return True\n",
    "  else: \n",
    "    return False\n",
    "\n",
    "ends_with('alma','A')"
   ]
  },
  {
   "cell_type": "code",
   "execution_count": 11,
   "metadata": {},
   "outputs": [
    {
     "data": {
      "text/plain": [
       "True"
      ]
     },
     "execution_count": 11,
     "metadata": {},
     "output_type": "execute_result"
    }
   ],
   "source": [
    "# checking string end\n",
    "def ends_with(string,char):\n",
    "  string_lower = string.lower()\n",
    "  char_lower = char.lower()\n",
    "\n",
    "  if len(string) == 0:\n",
    "    print('Empty string')\n",
    "  else:\n",
    "    return string_lower.endswith(char_lower)\n",
    "\n",
    "ends_with('alma','A')"
   ]
  },
  {
   "cell_type": "code",
   "execution_count": 12,
   "metadata": {},
   "outputs": [
    {
     "name": "stdout",
     "output_type": "stream",
     "text": [
      "         1\n",
      "        1 2\n",
      "       1 2 3\n",
      "      1 2 3 4\n",
      "     1 2 3 4 5\n",
      "    1 2 3 4 5 6\n",
      "   1 2 3 4 5 6 7\n",
      "  1 2 3 4 5 6 7 8\n",
      " 1 2 3 4 5 6 7 8 9\n",
      "1 2 3 4 5 6 7 8 9 10\n"
     ]
    }
   ],
   "source": [
    "#Looping over a range and printing with Asterisks\n",
    "def print_number_pyramid(n):\n",
    "\n",
    "    for i in range(1, n + 1):\n",
    "        spaces = ' ' * (n - i) \n",
    "        numbers = ' '.join(str(num) for num in range(1, i + 1))\n",
    "        print(spaces + numbers) \n",
    "\n",
    "print_number_pyramid(10)"
   ]
  },
  {
   "cell_type": "code",
   "execution_count": 13,
   "metadata": {},
   "outputs": [
    {
     "data": {
      "text/plain": [
       "52"
      ]
     },
     "execution_count": 13,
     "metadata": {},
     "output_type": "execute_result"
    }
   ],
   "source": [
    "#get ASCII values\n",
    "def get_ASCII(character):\n",
    "  return ord(character)\n",
    "\n",
    "get_ASCII('4')\n",
    "\n"
   ]
  },
  {
   "cell_type": "code",
   "execution_count": 14,
   "metadata": {},
   "outputs": [
    {
     "data": {
      "text/plain": [
       "720"
      ]
     },
     "execution_count": 14,
     "metadata": {},
     "output_type": "execute_result"
    }
   ],
   "source": [
    "#Find Factorial of given number\n",
    "def factorial(n):\n",
    "  if n == 0:\n",
    "    return 1\n",
    "  else:\n",
    "    return  n * factorial(n-1)\n",
    "\n",
    "factorial(6)  "
   ]
  },
  {
   "cell_type": "code",
   "execution_count": 15,
   "metadata": {},
   "outputs": [
    {
     "data": {
      "text/plain": [
       "['Come', 'as', 'you', 'are']"
      ]
     },
     "execution_count": 15,
     "metadata": {},
     "output_type": "execute_result"
    }
   ],
   "source": [
    "# Splitting a string into a list\n",
    "def split_str(sentence):\n",
    "    return sentence.split(' ')\n",
    "split_str(sentence='Come as you are')\n"
   ]
  },
  {
   "cell_type": "code",
   "execution_count": 16,
   "metadata": {},
   "outputs": [
    {
     "ename": "FileNotFoundError",
     "evalue": "[Errno 2] No such file or directory: 'text.txt'",
     "output_type": "error",
     "traceback": [
      "\u001b[1;31m---------------------------------------------------------------------------\u001b[0m",
      "\u001b[1;31mFileNotFoundError\u001b[0m                         Traceback (most recent call last)",
      "Cell \u001b[1;32mIn[16], line 4\u001b[0m\n\u001b[0;32m      1\u001b[0m \u001b[38;5;66;03m#File line by Line\u001b[39;00m\n\u001b[0;32m      2\u001b[0m \u001b[38;5;66;03m# pycharmda run et, yaratdigin py filenin daxilinde txt file yarat\u001b[39;00m\n\u001b[0;32m      3\u001b[0m \u001b[38;5;66;03m# ve her hansisa text yaz, kenarda yaratsan kod islemeyecek\u001b[39;00m\n\u001b[1;32m----> 4\u001b[0m file \u001b[38;5;241m=\u001b[39m \u001b[38;5;28;43mopen\u001b[39;49m\u001b[43m(\u001b[49m\u001b[38;5;124;43m'\u001b[39;49m\u001b[38;5;124;43mtext.txt\u001b[39;49m\u001b[38;5;124;43m'\u001b[39;49m\u001b[43m,\u001b[49m\u001b[38;5;124;43m'\u001b[39;49m\u001b[38;5;124;43mr\u001b[39;49m\u001b[38;5;124;43m'\u001b[39;49m\u001b[43m)\u001b[49m\n\u001b[0;32m      5\u001b[0m \u001b[38;5;28;01mfor\u001b[39;00m i \u001b[38;5;129;01min\u001b[39;00m file\u001b[38;5;241m.\u001b[39mreadlines():\n\u001b[0;32m      6\u001b[0m     \u001b[38;5;28mprint\u001b[39m(i)\n",
      "File \u001b[1;32m~\\AppData\\Roaming\\Python\\Python313\\site-packages\\IPython\\core\\interactiveshell.py:324\u001b[0m, in \u001b[0;36m_modified_open\u001b[1;34m(file, *args, **kwargs)\u001b[0m\n\u001b[0;32m    317\u001b[0m \u001b[38;5;28;01mif\u001b[39;00m file \u001b[38;5;129;01min\u001b[39;00m {\u001b[38;5;241m0\u001b[39m, \u001b[38;5;241m1\u001b[39m, \u001b[38;5;241m2\u001b[39m}:\n\u001b[0;32m    318\u001b[0m     \u001b[38;5;28;01mraise\u001b[39;00m \u001b[38;5;167;01mValueError\u001b[39;00m(\n\u001b[0;32m    319\u001b[0m         \u001b[38;5;124mf\u001b[39m\u001b[38;5;124m\"\u001b[39m\u001b[38;5;124mIPython won\u001b[39m\u001b[38;5;124m'\u001b[39m\u001b[38;5;124mt let you open fd=\u001b[39m\u001b[38;5;132;01m{\u001b[39;00mfile\u001b[38;5;132;01m}\u001b[39;00m\u001b[38;5;124m by default \u001b[39m\u001b[38;5;124m\"\u001b[39m\n\u001b[0;32m    320\u001b[0m         \u001b[38;5;124m\"\u001b[39m\u001b[38;5;124mas it is likely to crash IPython. If you know what you are doing, \u001b[39m\u001b[38;5;124m\"\u001b[39m\n\u001b[0;32m    321\u001b[0m         \u001b[38;5;124m\"\u001b[39m\u001b[38;5;124myou can use builtins\u001b[39m\u001b[38;5;124m'\u001b[39m\u001b[38;5;124m open.\u001b[39m\u001b[38;5;124m\"\u001b[39m\n\u001b[0;32m    322\u001b[0m     )\n\u001b[1;32m--> 324\u001b[0m \u001b[38;5;28;01mreturn\u001b[39;00m \u001b[43mio_open\u001b[49m\u001b[43m(\u001b[49m\u001b[43mfile\u001b[49m\u001b[43m,\u001b[49m\u001b[43m \u001b[49m\u001b[38;5;241;43m*\u001b[39;49m\u001b[43margs\u001b[49m\u001b[43m,\u001b[49m\u001b[43m \u001b[49m\u001b[38;5;241;43m*\u001b[39;49m\u001b[38;5;241;43m*\u001b[39;49m\u001b[43mkwargs\u001b[49m\u001b[43m)\u001b[49m\n",
      "\u001b[1;31mFileNotFoundError\u001b[0m: [Errno 2] No such file or directory: 'text.txt'"
     ]
    }
   ],
   "source": [
    "#File line by Line\n",
    "# pycharmda run et, yaratdigin py filenin daxilinde txt file yarat\n",
    "# ve her hansisa text yaz, kenarda yaratsan kod islemeyecek\n",
    "file = open('text.txt','r')\n",
    "for i in file.readlines():\n",
    "    print(i)"
   ]
  },
  {
   "cell_type": "code",
   "execution_count": null,
   "metadata": {},
   "outputs": [
    {
     "data": {
      "text/plain": [
       "[1, 4, 9, 16, 25, 36, 49, 64, 81, 100]"
      ]
     },
     "execution_count": 54,
     "metadata": {},
     "output_type": "execute_result"
    }
   ],
   "source": [
    "# Square of all elements of the list\n",
    "def square_nums(n):\n",
    "\n",
    "  list1 = []\n",
    "  for i in range(1,n+1):  \n",
    "    if n < 0:\n",
    "      print('Please enter positive number')\n",
    "      return []\n",
    "    list1.append(pow(i,2))\n",
    "  return list1\n",
    "square_nums(10)  "
   ]
  },
  {
   "cell_type": "code",
   "execution_count": null,
   "metadata": {},
   "outputs": [
    {
     "data": {
      "text/plain": [
       "'number is composite'"
      ]
     },
     "execution_count": 72,
     "metadata": {},
     "output_type": "execute_result"
    }
   ],
   "source": [
    "#Checking prime number\n",
    "def function(a):\n",
    "\n",
    "    count = 0\n",
    "    if a > 100:\n",
    "         print(' Enter less than 100')\n",
    "    elif  a<0:\n",
    "         print('Enter positive number')\n",
    "    else:  \n",
    "\n",
    "        for i in range(2, int(a**0.5)+1):\n",
    "            if a % i == 0:\n",
    "                count+=1\n",
    "        if count==0:\n",
    "                return (\"number is prime\")\n",
    "\n",
    "        else:\n",
    "            return (\"number is composite\")\n",
    "function(56)    \n",
    "\n",
    "\n",
    "\n",
    "\n"
   ]
  },
  {
   "cell_type": "code",
   "execution_count": null,
   "metadata": {},
   "outputs": [
    {
     "data": {
      "text/plain": [
       "'anavriN'"
      ]
     },
     "execution_count": 85,
     "metadata": {},
     "output_type": "execute_result"
    }
   ],
   "source": [
    "#reversing a string with slice method\n",
    "def reversed_string(string):\n",
    "  return string[::-1]\n",
    "reversed_string('Nirvana')"
   ]
  },
  {
   "cell_type": "code",
   "execution_count": null,
   "metadata": {},
   "outputs": [
    {
     "data": {
      "text/plain": [
       "4"
      ]
     },
     "execution_count": 220,
     "metadata": {},
     "output_type": "execute_result"
    }
   ],
   "source": [
    "#counting vowels\n",
    "def count_vowels(string):\n",
    "    num_vowels=0\n",
    "    for char in string:\n",
    "        if char.lower() in \"aeiou\":\n",
    "           num_vowels = num_vowels+1\n",
    "    return num_vowels\n",
    "count_vowels('Lost on You')\n",
    "\n",
    "\n",
    "\n"
   ]
  },
  {
   "cell_type": "code",
   "execution_count": null,
   "metadata": {},
   "outputs": [
    {
     "name": "stdout",
     "output_type": "stream",
     "text": [
      "[0, 1, 1, 2]\n"
     ]
    }
   ],
   "source": [
    "#fibonacci sequence\n",
    "def fibonacci(n):\n",
    "  \n",
    "    if n <= 0:\n",
    "        return []\n",
    "    elif n == 1:\n",
    "        return [0]\n",
    "    elif n == 2:\n",
    "        return [0, 1]\n",
    "\n",
    "    fib_seq = [0, 1]\n",
    "    for i in range(n - 2):\n",
    "        fib_seq.append(fib_seq[-1] + fib_seq[-2])\n",
    "    \n",
    "    return fib_seq\n",
    "\n",
    "print(fibonacci(4))"
   ]
  },
  {
   "cell_type": "code",
   "execution_count": null,
   "metadata": {},
   "outputs": [],
   "source": [
    "# finding max element of list:\n",
    "def max_element_of_list(a):\n",
    "  if len(a)==0:\n",
    "    return False\n",
    "  max_value = a[0]\n",
    "\n",
    "  \n",
    "\n",
    "  for i in a:#(ayri ayri listelri gosterir i)\n",
    "        if i > max_value:\n",
    "          max_value = i\n",
    "  return max_value   \n",
    "\n",
    "     \n",
    "max_element_of_list([])  \n"
   ]
  },
  {
   "cell_type": "code",
   "execution_count": null,
   "metadata": {},
   "outputs": [
    {
     "name": "stdout",
     "output_type": "stream",
     "text": [
      "None\n"
     ]
    }
   ],
   "source": [
    "list_ = []\n",
    "print(max(list_,default =None))"
   ]
  },
  {
   "cell_type": "code",
   "execution_count": null,
   "metadata": {},
   "outputs": [
    {
     "data": {
      "text/plain": [
       "0"
      ]
     },
     "execution_count": 153,
     "metadata": {},
     "output_type": "execute_result"
    }
   ],
   "source": [
    "# Sum of all elements of the list\n",
    "def sum_of_list(list1):\n",
    "\n",
    "  if len(list1)==0:\n",
    "    return 0\n",
    "  else:\n",
    "    return sum(list1)\n",
    "sum_of_list([])  \n"
   ]
  },
  {
   "cell_type": "code",
   "execution_count": null,
   "metadata": {},
   "outputs": [
    {
     "data": {
      "text/plain": [
       "[1, 2, 3, 4, 5]"
      ]
     },
     "execution_count": 159,
     "metadata": {},
     "output_type": "execute_result"
    }
   ],
   "source": [
    "# Sort the list\n",
    "def asceding_list(list1):\n",
    "  if len(list1)==0:\n",
    "    return \"List is Empty\"\n",
    "  else:\n",
    "\n",
    "    return sorted(list1)\n",
    "asceding_list([5,4,3,2,1])"
   ]
  },
  {
   "cell_type": "code",
   "execution_count": null,
   "metadata": {},
   "outputs": [
    {
     "data": {
      "text/plain": [
       "[2, 4]"
      ]
     },
     "execution_count": 179,
     "metadata": {},
     "output_type": "execute_result"
    }
   ],
   "source": [
    "# Even numbers in a list\n",
    "def even_numbers_list(list1):\n",
    "  list2 = []\n",
    "  for x in list1:\n",
    "    if x%2==0:\n",
    "      list2.append(x)  \n",
    "  return list2    \n",
    "  \n",
    "even_numbers_list([1,2,3,4,5])      \n",
    "\n",
    "\n",
    "\n"
   ]
  },
  {
   "cell_type": "code",
   "execution_count": null,
   "metadata": {},
   "outputs": [
    {
     "data": {
      "text/plain": [
       "[12, 6]"
      ]
     },
     "execution_count": 177,
     "metadata": {},
     "output_type": "execute_result"
    }
   ],
   "source": [
    "def even_numbers_list(list1):\n",
    "  return [x for x in list1 if x%2==0]   \n",
    "even_numbers_list([12,3,5,6])"
   ]
  },
  {
   "cell_type": "code",
   "execution_count": null,
   "metadata": {},
   "outputs": [
    {
     "data": {
      "text/plain": [
       "{'she': 2,\n",
       " 'gives': 1,\n",
       " 'me': 2,\n",
       " 'everything': 1,\n",
       " 'and': 2,\n",
       " 'tenderly': 1,\n",
       " 'the': 1,\n",
       " 'kiss': 1,\n",
       " 'my': 1,\n",
       " 'lover': 2,\n",
       " 'brings': 2,\n",
       " 'to': 1,\n",
       " 'i': 1,\n",
       " 'her': 1}"
      ]
     },
     "execution_count": 219,
     "metadata": {},
     "output_type": "execute_result"
    }
   ],
   "source": [
    "#frequency string\n",
    "def word_count(s):\n",
    "    words = s.split()\n",
    "    freq_dict = {}\n",
    "    \n",
    "    for word in words:\n",
    "        word = word.lower().strip(\".,!?;:\")  \n",
    "        if word in freq_dict:\n",
    "            freq_dict[word] += 1\n",
    "        else:\n",
    "            freq_dict[word] = 1\n",
    "    \n",
    "    return freq_dict\n",
    "\n",
    "\n",
    "word_count(\"She gives me everything and tenderly... The kiss my lover brings, she brings to me... And i lover her\")\n",
    "#  Kurt Cobain - And i love her\n"
   ]
  },
  {
   "cell_type": "code",
   "execution_count": null,
   "metadata": {},
   "outputs": [
    {
     "data": {
      "text/plain": [
       "[4, 5]"
      ]
     },
     "execution_count": 185,
     "metadata": {},
     "output_type": "execute_result"
    }
   ],
   "source": [
    "#common elements in two lists\n",
    "\n",
    "def common_elemts(list1,list2):\n",
    "  return list(set(list1).intersection(set(list2)))\n",
    "common_elemts(list1= [1,2,3,4,5],list2=[4,5,6,7,8])"
   ]
  },
  {
   "cell_type": "code",
   "execution_count": null,
   "metadata": {},
   "outputs": [
    {
     "name": "stdout",
     "output_type": "stream",
     "text": [
      "[1, 2, 3, 4, 4, 5, 6, 7]\n"
     ]
    }
   ],
   "source": [
    "#merged list\n",
    "def merge_and_sort(list1,list2):\n",
    "  list1.extend(list2)\n",
    "\n",
    "  print(sorted(list1))\n",
    "merge_and_sort(list1=[4,5,6,7],list2=[1,2,3,4])"
   ]
  },
  {
   "cell_type": "code",
   "execution_count": null,
   "metadata": {},
   "outputs": [
    {
     "name": "stdout",
     "output_type": "stream",
     "text": [
      "105.45 Celsius to faranheit is: 221.81\n"
     ]
    }
   ],
   "source": [
    "#Celsius to fahranheit\n",
    "def celsius_to_fahranheit(celsius):\n",
    "  if type(celsius) != int and type(celsius)!= float:\n",
    "    print('enter valid temperature')\n",
    "  else:  \n",
    "    fahranheit = 0\n",
    "    fahranheit += (celsius*9/5)+32\n",
    "    print(f'{celsius} Celsius to fahranheit is: {fahranheit}')\n",
    "celsius_to_fahranheit(105.45)  \n",
    "\n"
   ]
  },
  {
   "cell_type": "code",
   "execution_count": null,
   "metadata": {},
   "outputs": [
    {
     "data": {
      "text/plain": [
       "[1, 2, 3, 5, 6]"
      ]
     },
     "execution_count": 308,
     "metadata": {},
     "output_type": "execute_result"
    }
   ],
   "source": [
    "#duplicate removal\n",
    "def remove_duplicates(list1):\n",
    "  return list((set(list1)))\n",
    "\n",
    "remove_duplicates([1,2,3,3,3,5,6])"
   ]
  },
  {
   "cell_type": "code",
   "execution_count": null,
   "metadata": {},
   "outputs": [
    {
     "name": "stdout",
     "output_type": "stream",
     "text": [
      "\n"
     ]
    }
   ],
   "source": [
    "# find length of longest word\n",
    "def longest_word(string):\n",
    "  words = string.split()\n",
    "  longest = words[0]\n",
    "  for word in words:\n",
    "    if len(word) > len(longest):\n",
    "      longest = word\n",
    "  return longest \n",
    "\n",
    "longest_word(\"I'm sorry sweetie please don't go..\")\n",
    "# Julie Doiron - August 10\n"
   ]
  },
  {
   "cell_type": "code",
   "execution_count": null,
   "metadata": {},
   "outputs": [
    {
     "data": {
      "text/plain": [
       "[1, 2, 3, 5, 6, 7, 8, 9]"
      ]
     },
     "execution_count": 223,
     "metadata": {},
     "output_type": "execute_result"
    }
   ],
   "source": [
    "#Finding unique elements in a list\n",
    "def find_unique_elements(input_list):\n",
    "    seen = set()\n",
    "    unique_list = []\n",
    "    for item in input_list:\n",
    "        if item not in seen:\n",
    "            seen.add(item)\n",
    "            unique_list.append(item)\n",
    "    return unique_list\n",
    "\n",
    "find_unique_elements([1,2,1,2,3,5,6,7,7,8,9])"
   ]
  },
  {
   "cell_type": "code",
   "execution_count": null,
   "metadata": {},
   "outputs": [
    {
     "data": {
      "text/plain": [
       "[3, 2, 12]"
      ]
     },
     "execution_count": 226,
     "metadata": {},
     "output_type": "execute_result"
    }
   ],
   "source": [
    "# Create a new list from the length of words in a list\n",
    "def word_lengths(word_list):\n",
    "    length_list = []\n",
    "    for word in word_list:\n",
    "        length_list.append(len(word))\n",
    "    return length_list\n",
    "\n",
    "word_lengths([\"CAS\", \"LP\", \"Lana Del Rey\"])\n"
   ]
  },
  {
   "cell_type": "code",
   "execution_count": null,
   "metadata": {},
   "outputs": [
    {
     "data": {
      "text/plain": [
       "2"
      ]
     },
     "execution_count": 254,
     "metadata": {},
     "output_type": "execute_result"
    }
   ],
   "source": [
    "# Counting words in a sentence\n",
    "def count_words(sentence):\n",
    "  if len(sentence)==0:\n",
    "    print(None)\n",
    "  else:  \n",
    "    words = sentence.split()\n",
    "    return len(words)\n",
    "count_words(\"Sesame Syrup\")\n"
   ]
  },
  {
   "cell_type": "code",
   "execution_count": null,
   "metadata": {},
   "outputs": [
    {
     "data": {
      "text/plain": [
       "['angle', 'distribution,', 'normal', 't_table,', 'Z_score,']"
      ]
     },
     "execution_count": 276,
     "metadata": {},
     "output_type": "execute_result"
    }
   ],
   "source": [
    "# sorting in alphabetic \n",
    "def sorting_words(sentence):\n",
    "\n",
    "  if len(sentence)==0:\n",
    "    print(None)\n",
    "  else:  \n",
    "    words = sentence.split()\n",
    "    return sorted(words,key=str.lower)\n",
    "sorting_words(\"Z_score, t_table, normal distribution, angle\")"
   ]
  },
  {
   "cell_type": "code",
   "execution_count": null,
   "metadata": {},
   "outputs": [
    {
     "data": {
      "text/plain": [
       "'Take'"
      ]
     },
     "execution_count": 282,
     "metadata": {},
     "output_type": "execute_result"
    }
   ],
   "source": [
    "#find second largest\n",
    "def find_second_largest(sentence):\n",
    " words = sentence.split()\n",
    " largest = words[0]\n",
    " second_largest = words[0]\n",
    " for word in words:\n",
    "  if len(word) > len(largest):\n",
    "   largest = word\n",
    "  elif len(word) > len(second_largest) and word!=largest:\n",
    "   second_largest = word \n",
    " return second_largest\n",
    "\n",
    "find_second_largest('Take me back to the night we met')  "
   ]
  },
  {
   "cell_type": "code",
   "execution_count": null,
   "metadata": {},
   "outputs": [
    {
     "data": {
      "text/plain": [
       "1.5"
      ]
     },
     "execution_count": 298,
     "metadata": {},
     "output_type": "execute_result"
    }
   ],
   "source": [
    "#calculating average of list:\n",
    "def average_list(list1):\n",
    "  total_value = 0\n",
    "  if len(list1)==0:\n",
    "    return None\n",
    "  for val in list1:\n",
    "    total_value += val\n",
    "  avg = total_value/len(list1)\n",
    "  return avg\n",
    "average_list([1,2])"
   ]
  },
  {
   "cell_type": "code",
   "execution_count": null,
   "metadata": {},
   "outputs": [
    {
     "data": {
      "text/plain": [
       "True"
      ]
     },
     "execution_count": 300,
     "metadata": {},
     "output_type": "execute_result"
    }
   ],
   "source": [
    "# Checking armstrong\n",
    "def is_armstrong(number):\n",
    "    if number < 0:\n",
    "        return False\n",
    "    num_str = str(number)\n",
    "    num_digits = len(num_str)\n",
    "    total = 0\n",
    "    for digit in num_str:\n",
    "        total += int(digit) ** num_digits\n",
    "    return total == number\n",
    "\n",
    "is_armstrong(153)"
   ]
  },
  {
   "cell_type": "code",
   "execution_count": null,
   "metadata": {},
   "outputs": [
    {
     "data": {
      "text/plain": [
       "True"
      ]
     },
     "execution_count": 367,
     "metadata": {},
     "output_type": "execute_result"
    }
   ],
   "source": [
    "#Checking perfect numbers\n",
    "def is_perfect_number(number):\n",
    "    if number <= 0 or number > 100:\n",
    "        return False\n",
    "    divisor_sum = 0\n",
    "    for i in range(1, number):\n",
    "        if number % i == 0:\n",
    "            divisor_sum += i\n",
    "    return divisor_sum == number\n",
    "\n",
    "is_perfect_number(28)"
   ]
  },
  {
   "cell_type": "code",
   "execution_count": 21,
   "metadata": {},
   "outputs": [
    {
     "data": {
      "text/plain": [
       "[12, 18, 24, 32]"
      ]
     },
     "execution_count": 21,
     "metadata": {},
     "output_type": "execute_result"
    }
   ],
   "source": [
    "#filter even numbers\n",
    "list1 = [5, 12, 17, 18, 24, 32]\n",
    "def is_even(number):\n",
    "    return number % 2 == 0\n",
    "\n",
    "list(filter(is_even, list1))\n",
    "\n"
   ]
  },
  {
   "cell_type": "code",
   "execution_count": null,
   "metadata": {},
   "outputs": [
    {
     "name": "stdout",
     "output_type": "stream",
     "text": [
      "     18.35\n"
     ]
    }
   ],
   "source": [
    "# format number\n",
    "age = 18.3473747\n",
    "\n",
    "print('{:>10.2f}'.format(age))\n",
    "\n"
   ]
  }
 ],
 "metadata": {
  "kernelspec": {
   "display_name": "Python 3",
   "language": "python",
   "name": "python3"
  },
  "language_info": {
   "codemirror_mode": {
    "name": "ipython",
    "version": 3
   },
   "file_extension": ".py",
   "mimetype": "text/x-python",
   "name": "python",
   "nbconvert_exporter": "python",
   "pygments_lexer": "ipython3",
   "version": "3.13.2"
  }
 },
 "nbformat": 4,
 "nbformat_minor": 2
}
