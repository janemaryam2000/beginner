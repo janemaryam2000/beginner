{
 "cells": [
  {
   "cell_type": "code",
   "execution_count": 180,
   "metadata": {},
   "outputs": [
    {
     "data": {
      "text/plain": [
       "[1, 4, 9, 16, 25]"
      ]
     },
     "execution_count": 180,
     "metadata": {},
     "output_type": "execute_result"
    }
   ],
   "source": [
    "# Power Calculation\n",
    "def power_of_list(list1,exponent):\n",
    "  list2 = [] #quvvete yukseldilmis deyerleri yeni liste elave etmek ucun evvelceden bos list yaradiriq\n",
    "  for x in list1: #listin uzunlugu boyunca i-leri(elementleri) iterasiya edirik\n",
    "    list2.append(pow(x,exponent)) #bos liste quvvete yukseldilmis elementleri append edirik\n",
    "  return list2\n",
    "power_of_list(list1=[1,2,3,4,5],exponent=2)  "
   ]
  },
  {
   "cell_type": "code",
   "execution_count": 1,
   "metadata": {},
   "outputs": [
    {
     "data": {
      "text/plain": [
       "2"
      ]
     },
     "execution_count": 1,
     "metadata": {},
     "output_type": "execute_result"
    }
   ],
   "source": [
    "# Counting character occurrences in a string\n",
    "def count_characters(string, character):\n",
    "  count_ = string.count(character)\n",
    "  return count_\n",
    "count_characters(string='Megadeth',character='e')"
   ]
  },
  {
   "cell_type": "code",
   "execution_count": 87,
   "metadata": {},
   "outputs": [
    {
     "data": {
      "text/plain": [
       "'Krobak'"
      ]
     },
     "execution_count": 87,
     "metadata": {},
     "output_type": "execute_result"
    }
   ],
   "source": [
    "# Trimming Whitespace\n",
    "def trimming_space(string):\n",
    "\n",
    "  if ' ' in string:\n",
    "    string = string.strip()\n",
    "    return string\n",
    "  else:\n",
    "    return False\n",
    "trimming_space(string='  Krobak   ')\n"
   ]
  },
  {
   "cell_type": "code",
   "execution_count": 88,
   "metadata": {},
   "outputs": [
    {
     "data": {
      "text/plain": [
       "'Krystal Kastles'"
      ]
     },
     "execution_count": 88,
     "metadata": {},
     "output_type": "execute_result"
    }
   ],
   "source": [
    "#Replacing substring in a string\n",
    "def replacing_string(string, subst_old, subst_new):\n",
    "    if subst_old in string:\n",
    "      return string.replace(subst_old,subst_new)\n",
    "    else:\n",
    "      return False\n",
    "replacing_string('Crystal Castles','C','K')\n"
   ]
  },
  {
   "cell_type": "code",
   "execution_count": null,
   "metadata": {},
   "outputs": [
    {
     "data": {
      "text/plain": [
       "25.535345"
      ]
     },
     "execution_count": 76,
     "metadata": {},
     "output_type": "execute_result"
    }
   ],
   "source": [
    "#Calculating absolute values1\n",
    "def absolute_value(integer):\n",
    "  return abs(integer)\n",
    "absolute_value(-25.535345)"
   ]
  },
  {
   "cell_type": "code",
   "execution_count": null,
   "metadata": {},
   "outputs": [
    {
     "name": "stdout",
     "output_type": "stream",
     "text": [
      "String is polindrome\n",
      "String is not polindrome\n"
     ]
    }
   ],
   "source": [
    "# Checking palindrome strings\n",
    "def is_polindrome(string):\n",
    "  if string.lower() == (string[::-1]).lower(): #lower() ile stringi case sensitive olmaqdan cixaririq\n",
    "    return 'String is polindrome'\n",
    "  else:\n",
    "    return 'String is not polindrome'\n",
    "print(is_polindrome('Anna anna'))\n",
    "print(is_polindrome('Nazrin'))\n"
   ]
  },
  {
   "cell_type": "code",
   "execution_count": 64,
   "metadata": {},
   "outputs": [
    {
     "name": "stdout",
     "output_type": "stream",
     "text": [
      "9 x 1 = 9\n",
      "9 x 2 = 18\n",
      "9 x 3 = 27\n",
      "9 x 4 = 36\n",
      "9 x 5 = 45\n",
      "9 x 6 = 54\n",
      "9 x 7 = 63\n",
      "9 x 8 = 72\n",
      "9 x 9 = 81\n",
      "9 x 10 = 90\n"
     ]
    }
   ],
   "source": [
    "#Generating a multiplication table\n",
    "def mul_table(n):\n",
    "  for i in range(1,11):\n",
    "    print(f\"{n} x {i} = {n*i}\")\n",
    "  \n",
    "mul_table(9)\n",
    "# print(f' Multiplication table of {n} is {mul_table(5)}')"
   ]
  },
  {
   "cell_type": "code",
   "execution_count": 115,
   "metadata": {},
   "outputs": [
    {
     "data": {
      "text/plain": [
       "45"
      ]
     },
     "execution_count": 115,
     "metadata": {},
     "output_type": "execute_result"
    }
   ],
   "source": [
    "# Calculating sum of digits\n",
    "def sum_of_digits(integer):\n",
    "  sum = 0\n",
    "  while integer>0:\n",
    "    digits = integer%10\n",
    "    integer//=10\n",
    "    sum+=digits\n",
    "  return sum\n",
    "  \n",
    "\n",
    "    \n",
    "sum_of_digits(123456789)    \n",
    "\n"
   ]
  },
  {
   "cell_type": "code",
   "execution_count": 86,
   "metadata": {},
   "outputs": [
    {
     "data": {
      "text/plain": [
       "9"
      ]
     },
     "execution_count": 86,
     "metadata": {},
     "output_type": "execute_result"
    }
   ],
   "source": [
    "#Calculating the length of a string\n",
    "def str_len(string):\n",
    "  # length = 0\n",
    "  if string == '':\n",
    "    return 0\n",
    "  else:\n",
    "    return 1 + str_len(string[1:])\n",
    "str_len('Radiohead')  \n"
   ]
  },
  {
   "cell_type": "code",
   "execution_count": 30,
   "metadata": {},
   "outputs": [
    {
     "data": {
      "text/plain": [
       "False"
      ]
     },
     "execution_count": 30,
     "metadata": {},
     "output_type": "execute_result"
    }
   ],
   "source": [
    "# checking string start\n",
    "def starts_with(string,prefix):\n",
    "  if (string[0:len(prefix)]).lower() == (prefix).lower():\n",
    "    print(f'{string} starts with prefix \"{prefix.capitalize()}\" ')\n",
    "  else: \n",
    "    return False\n",
    "\n",
    "starts_with('Tame Impala', 'a')    "
   ]
  },
  {
   "cell_type": "code",
   "execution_count": 33,
   "metadata": {},
   "outputs": [
    {
     "name": "stdout",
     "output_type": "stream",
     "text": [
      "Ozzy Osbourne ends with sufix : \"ne\"\n"
     ]
    }
   ],
   "source": [
    "# checking string end\n",
    "def ends_with(string,sufix):\n",
    "  if (string[-len(sufix):]).lower() == (sufix).lower():\n",
    "    print(f'{string} ends with sufix : \"{sufix}\"')\n",
    "  else: \n",
    "    return False\n",
    "\n",
    "ends_with('Ozzy Osbourne', 'ne')"
   ]
  },
  {
   "cell_type": "code",
   "execution_count": 80,
   "metadata": {},
   "outputs": [
    {
     "name": "stdout",
     "output_type": "stream",
     "text": [
      "         1\n",
      "        1 2\n",
      "       1 2 3\n",
      "      1 2 3 4\n",
      "     1 2 3 4 5\n",
      "    1 2 3 4 5 6\n",
      "   1 2 3 4 5 6 7\n",
      "  1 2 3 4 5 6 7 8\n",
      " 1 2 3 4 5 6 7 8 9\n",
      "1 2 3 4 5 6 7 8 9 10\n"
     ]
    }
   ],
   "source": [
    "def print_number_pyramid(n):\n",
    "    for i in range(1, n + 1):\n",
    "        spaces = ' ' * (n - i) \n",
    "        numbers = ' '.join(str(num) for num in range(1, i + 1))\n",
    "        print(spaces + numbers) \n",
    "\n",
    "print_number_pyramid(10)"
   ]
  },
  {
   "cell_type": "code",
   "execution_count": 10,
   "metadata": {},
   "outputs": [
    {
     "data": {
      "text/plain": [
       "52"
      ]
     },
     "execution_count": 10,
     "metadata": {},
     "output_type": "execute_result"
    }
   ],
   "source": [
    "#get ASCII values\n",
    "def get_ASCII(character):\n",
    "  return ord(character)\n",
    "\n",
    "get_ASCII('4')\n",
    "\n"
   ]
  },
  {
   "cell_type": "code",
   "execution_count": 29,
   "metadata": {},
   "outputs": [
    {
     "data": {
      "text/plain": [
       "720"
      ]
     },
     "execution_count": 29,
     "metadata": {},
     "output_type": "execute_result"
    }
   ],
   "source": [
    "# task 14 \n",
    "def factorial(n):\n",
    "  if n == 0:\n",
    "    return 1\n",
    "  else:\n",
    "    return  n * factorial(n-1)\n",
    "\n",
    "factorial(6)  "
   ]
  },
  {
   "cell_type": "code",
   "execution_count": 84,
   "metadata": {},
   "outputs": [
    {
     "data": {
      "text/plain": [
       "['Come', 'as', 'you', 'are']"
      ]
     },
     "execution_count": 84,
     "metadata": {},
     "output_type": "execute_result"
    }
   ],
   "source": [
    "# Splitting a string into a list\n",
    "def split_str(sentence):\n",
    "    return sentence.split(' ')\n",
    "split_str(sentence='Come as you are')\n"
   ]
  },
  {
   "cell_type": "code",
   "execution_count": null,
   "metadata": {},
   "outputs": [
    {
     "data": {
      "text/plain": [
       "[1, 4, 9, 16, 25, 36, 49, 64, 81, 100]"
      ]
     },
     "execution_count": 54,
     "metadata": {},
     "output_type": "execute_result"
    }
   ],
   "source": [
    "# task 15\n",
    "def square_nums(n):\n",
    "\n",
    "  list1 = []\n",
    "  for i in range(1,n+1):  \n",
    "    if n < 0:\n",
    "      print('Please enter positive number')\n",
    "      return []\n",
    "    list1.append(pow(i,2))\n",
    "  return list1\n",
    "square_nums(10)  "
   ]
  },
  {
   "cell_type": "code",
   "execution_count": 72,
   "metadata": {},
   "outputs": [
    {
     "data": {
      "text/plain": [
       "'number is composite'"
      ]
     },
     "execution_count": 72,
     "metadata": {},
     "output_type": "execute_result"
    }
   ],
   "source": [
    "def function(a):\n",
    "    count = 0\n",
    "    if a > 100:\n",
    "         print(' Enter less than 100')\n",
    "    elif  a<0:\n",
    "         print('Enter positive number')\n",
    "    else:  \n",
    "\n",
    "        for i in range(2, int(a**0.5)+1):\n",
    "            if a % i == 0:\n",
    "                count+=1\n",
    "        if count==0:\n",
    "                return (\"number is prime\")\n",
    "\n",
    "        else:\n",
    "            return (\"number is composite\")\n",
    "function(56)    \n",
    "\n",
    "\n",
    "\n",
    "\n"
   ]
  },
  {
   "cell_type": "code",
   "execution_count": 85,
   "metadata": {},
   "outputs": [
    {
     "data": {
      "text/plain": [
       "'anavriN'"
      ]
     },
     "execution_count": 85,
     "metadata": {},
     "output_type": "execute_result"
    }
   ],
   "source": [
    "#reversing a string\n",
    "def reversed_string(string):\n",
    "  return string[::-1]\n",
    "reversed_string('Nirvana')"
   ]
  },
  {
   "cell_type": "code",
   "execution_count": 220,
   "metadata": {},
   "outputs": [
    {
     "data": {
      "text/plain": [
       "4"
      ]
     },
     "execution_count": 220,
     "metadata": {},
     "output_type": "execute_result"
    }
   ],
   "source": [
    "#counting vowels\n",
    "def count_vowels(string):\n",
    "    num_vowels=0\n",
    "    for char in string:\n",
    "        if char.lower() in \"aeiou\":\n",
    "           num_vowels = num_vowels+1\n",
    "    return num_vowels\n",
    "count_vowels('Lost on You')\n",
    "\n",
    "\n",
    "\n"
   ]
  },
  {
   "cell_type": "code",
   "execution_count": 101,
   "metadata": {},
   "outputs": [
    {
     "name": "stdout",
     "output_type": "stream",
     "text": [
      "[0, 1, 1, 2]\n"
     ]
    }
   ],
   "source": [
    "#fibonacci\n",
    "def fibonacci(n):\n",
    "  \n",
    "    if n <= 0:\n",
    "        return []\n",
    "    elif n == 1:\n",
    "        return [0]\n",
    "    elif n == 2:\n",
    "        return [0, 1]\n",
    "\n",
    "    fib_seq = [0, 1]\n",
    "    for i in range(n - 2):\n",
    "        fib_seq.append(fib_seq[-1] + fib_seq[-2])\n",
    "    \n",
    "    return fib_seq\n",
    "\n",
    "print(fibonacci(4))"
   ]
  },
  {
   "cell_type": "code",
   "execution_count": null,
   "metadata": {},
   "outputs": [],
   "source": [
    "# finding max element of list:\n",
    "def max_element_of_list(a):\n",
    "  if len(a)==0:\n",
    "    return False\n",
    "  max_value = a[0]\n",
    "\n",
    "  \n",
    "\n",
    "  for i in a:#(ayri ayri listelri gosterir i)\n",
    "        if i > max_value:\n",
    "          max_value = i\n",
    "  return max_value   \n",
    "\n",
    "     \n",
    "max_element_of_list([])  \n"
   ]
  },
  {
   "cell_type": "code",
   "execution_count": 140,
   "metadata": {},
   "outputs": [
    {
     "name": "stdout",
     "output_type": "stream",
     "text": [
      "None\n"
     ]
    }
   ],
   "source": [
    "list_ = []\n",
    "print(max(list_,default =None))"
   ]
  },
  {
   "cell_type": "code",
   "execution_count": 153,
   "metadata": {},
   "outputs": [
    {
     "data": {
      "text/plain": [
       "0"
      ]
     },
     "execution_count": 153,
     "metadata": {},
     "output_type": "execute_result"
    }
   ],
   "source": [
    "def sum_of_list(list1):\n",
    "  if len(list1)==0:\n",
    "    return 0\n",
    "  else:\n",
    "    return sum(list1)\n",
    "sum_of_list([])  \n"
   ]
  },
  {
   "cell_type": "code",
   "execution_count": 159,
   "metadata": {},
   "outputs": [
    {
     "data": {
      "text/plain": [
       "[1, 2, 3, 4, 5]"
      ]
     },
     "execution_count": 159,
     "metadata": {},
     "output_type": "execute_result"
    }
   ],
   "source": [
    "def asceding_list(list1):\n",
    "  if len(list1)==0:\n",
    "    return \"List is Empty\"\n",
    "  else:\n",
    "\n",
    "    return sorted(list1)\n",
    "asceding_list([5,4,3,2,1])"
   ]
  },
  {
   "cell_type": "code",
   "execution_count": 179,
   "metadata": {},
   "outputs": [
    {
     "data": {
      "text/plain": [
       "[2, 4]"
      ]
     },
     "execution_count": 179,
     "metadata": {},
     "output_type": "execute_result"
    }
   ],
   "source": [
    "# even numbers in a list\n",
    "def even_numbers_list(list1):\n",
    "  list2 = []\n",
    "  for x in list1:\n",
    "    if x%2==0:\n",
    "      list2.append(x)  \n",
    "  return list2    \n",
    "  \n",
    "even_numbers_list([1,2,3,4,5])      \n",
    "\n",
    "\n",
    "\n"
   ]
  },
  {
   "cell_type": "code",
   "execution_count": 177,
   "metadata": {},
   "outputs": [
    {
     "data": {
      "text/plain": [
       "[12, 6]"
      ]
     },
     "execution_count": 177,
     "metadata": {},
     "output_type": "execute_result"
    }
   ],
   "source": [
    "def even_numbers_list(list1):\n",
    "  return [x for x in list1 if x%2==0]   \n",
    "even_numbers_list([12,3,5,6])"
   ]
  },
  {
   "cell_type": "code",
   "execution_count": null,
   "metadata": {},
   "outputs": [
    {
     "data": {
      "text/plain": [
       "{'she': 2,\n",
       " 'gives': 1,\n",
       " 'me': 2,\n",
       " 'everything': 1,\n",
       " 'and': 2,\n",
       " 'tenderly': 1,\n",
       " 'the': 1,\n",
       " 'kiss': 1,\n",
       " 'my': 1,\n",
       " 'lover': 2,\n",
       " 'brings': 2,\n",
       " 'to': 1,\n",
       " 'i': 1,\n",
       " 'her': 1}"
      ]
     },
     "execution_count": 219,
     "metadata": {},
     "output_type": "execute_result"
    }
   ],
   "source": [
    "#frequency string\n",
    "def word_count(s):\n",
    "    words = s.split()\n",
    "    freq_dict = {}\n",
    "    \n",
    "    for word in words:\n",
    "        word = word.lower().strip(\".,!?;:\")  \n",
    "        if word in freq_dict:\n",
    "            freq_dict[word] += 1\n",
    "        else:\n",
    "            freq_dict[word] = 1\n",
    "    \n",
    "    return freq_dict\n",
    "\n",
    "\n",
    "word_count(\"She gives me everything and tenderly... The kiss my lover brings, she brings to me... And i lover her\")\n",
    "#  Kurt Cobain - And i love her\n"
   ]
  },
  {
   "cell_type": "code",
   "execution_count": null,
   "metadata": {},
   "outputs": [
    {
     "data": {
      "text/plain": [
       "[4, 5]"
      ]
     },
     "execution_count": 185,
     "metadata": {},
     "output_type": "execute_result"
    }
   ],
   "source": [
    "#common elements in two lists\n",
    "\n",
    "def common_elemts(list1,list2):\n",
    "  return list(set(list1).intersection(set(list2)))\n",
    "common_elemts(list1= [1,2,3,4,5],list2=[4,5,6,7,8])"
   ]
  },
  {
   "cell_type": "code",
   "execution_count": 197,
   "metadata": {},
   "outputs": [
    {
     "name": "stdout",
     "output_type": "stream",
     "text": [
      "[1, 2, 3, 4, 4, 5, 6, 7]\n"
     ]
    }
   ],
   "source": [
    "#merged list\n",
    "def merge_and_sort(list1,list2):\n",
    "  list1.extend(list2)\n",
    "\n",
    "  print(sorted(list1))\n",
    "merge_and_sort(list1=[4,5,6,7],list2=[1,2,3,4])"
   ]
  },
  {
   "cell_type": "code",
   "execution_count": null,
   "metadata": {},
   "outputs": [
    {
     "name": "stdout",
     "output_type": "stream",
     "text": [
      "105.45 Celsius to faranheit is: 221.81\n"
     ]
    }
   ],
   "source": [
    "#Celsius to faranheit\n",
    "def celsius_to_fahranheit(celsius):\n",
    "  if type(celsius) != int and type(celsius)!= float:\n",
    "    print('enter valid temperature')\n",
    "  else:  \n",
    "    fahranheit = 0\n",
    "    fahranheit += (celsius*9/5)+32\n",
    "    print(f'{celsius} Celsius to fahranheit is: {fahranheit}')\n",
    "celsius_to_fahranheit(105.45)  \n",
    "\n"
   ]
  },
  {
   "cell_type": "code",
   "execution_count": null,
   "metadata": {},
   "outputs": [
    {
     "data": {
      "text/plain": [
       "[1, 2, 3, 5, 6]"
      ]
     },
     "execution_count": 206,
     "metadata": {},
     "output_type": "execute_result"
    }
   ],
   "source": [
    "# duplicate_removal\n",
    "def remove_duplicates(list1):\n",
    "  return list((set(list1)))\n",
    "\n",
    "remove_duplicates([1,2,3,3,3,5,6])"
   ]
  },
  {
   "cell_type": "code",
   "execution_count": null,
   "metadata": {},
   "outputs": [
    {
     "name": "stdout",
     "output_type": "stream",
     "text": [
      "\n"
     ]
    }
   ],
   "source": [
    "# find length of longest word\n",
    "def longest_word(string):\n",
    "  words = string.split()\n",
    "  longest = words[0]\n",
    "  for word in words:\n",
    "    if len(word) > len(longest):\n",
    "      longest = word\n",
    "  return longest \n",
    "\n",
    "longest_word(\"I'm sorry sweetie please don't go..\")\n",
    "# Julie Doiron - August 10\n"
   ]
  },
  {
   "cell_type": "code",
   "execution_count": null,
   "metadata": {},
   "outputs": [],
   "source": [
    "def "
   ]
  }
 ],
 "metadata": {
  "kernelspec": {
   "display_name": "Python 3",
   "language": "python",
   "name": "python3"
  },
  "language_info": {
   "codemirror_mode": {
    "name": "ipython",
    "version": 3
   },
   "file_extension": ".py",
   "mimetype": "text/x-python",
   "name": "python",
   "nbconvert_exporter": "python",
   "pygments_lexer": "ipython3",
   "version": "3.13.2"
  }
 },
 "nbformat": 4,
 "nbformat_minor": 2
}
